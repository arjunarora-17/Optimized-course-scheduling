{
 "cells": [
  {
   "cell_type": "markdown",
   "id": "af188649",
   "metadata": {},
   "source": [
    "## Generate Random pairs of choices of course by students to be taken in Slot A and SLot B\n",
    "- Courses that are in same slots follow same schedule \n",
    "- A student cannot take more than one course from the same slot.\n",
    "- A student in satisfied if both of his selected courses are in differnt slots"
   ]
  },
  {
   "cell_type": "code",
   "execution_count": 2,
   "id": "76cfd20b",
   "metadata": {},
   "outputs": [
    {
     "name": "stdout",
     "output_type": "stream",
     "text": [
      "[(2, 3), (1, 0), (7, 5), (6, 5), (0, 7), (2, 6), (3, 2), (7, 1), (1, 3), (1, 6), (7, 2), (1, 5), (1, 6), (7, 6), (7, 5), (5, 0), (2, 6), (0, 3), (1, 5), (7, 3)]\n"
     ]
    }
   ],
   "source": [
    "import random\n",
    "\n",
    "def generate_pairs(n):\n",
    "    values = [0, 1, 2, 3, 5,6,7]\n",
    "    pairs = []\n",
    "    \n",
    "    for _ in range(n):\n",
    "        a, b = random.sample(values, 2)  # Ensures a != b\n",
    "        pairs.append((a, b))\n",
    "    \n",
    "    return pairs\n",
    "\n",
    "# Example usage\n",
    "n = 20\n",
    "print(generate_pairs(n))\n"
   ]
  },
  {
   "cell_type": "markdown",
   "id": "ee926602",
   "metadata": {},
   "source": [
    "- Non-Flexible means : Number of electives per slot = Number of electives/2\n",
    "- Flexible means Number of electives per slot need not be same for both"
   ]
  },
  {
   "cell_type": "markdown",
   "id": "8eb792f5",
   "metadata": {},
   "source": [
    "## PULP LIBRARY (BRANCH AND BOUND METHOD) (NOT FLEXIBLE)"
   ]
  },
  {
   "cell_type": "code",
   "execution_count": 5,
   "id": "21cc5777",
   "metadata": {},
   "outputs": [
    {
     "name": "stdout",
     "output_type": "stream",
     "text": [
      "Status: Optimal\n",
      "Number of satisfied students: 66\n",
      "Total students = 100\n",
      "Satisfied students indices: [0, 1, 2, 4, 6, 7, 10, 11, 12, 13, 14, 15, 16, 17, 20, 22, 27, 28, 29, 31, 32, 34, 37, 38, 39, 41, 42, 44, 46, 48, 49, 50, 53, 55, 56, 57, 59, 60, 63, 64, 65, 66, 67, 68, 69, 70, 72, 74, 75, 76, 77, 79, 80, 81, 82, 83, 84, 86, 88, 90, 91, 92, 93, 94, 97, 98]\n",
      "Electives in Slot A: [2, 4, 5, 7]\n",
      "Electives in Slot B: [0, 1, 3, 6]\n"
     ]
    }
   ],
   "source": [
    "import pulp\n",
    "\n",
    "# Function to solve the elective assignment problem\n",
    "def assign_electives(students, electives, k):\n",
    "    # Number of students and electives\n",
    "    N = len(students)\n",
    "    M = len(electives)\n",
    "\n",
    "    # Create a linear programming problem\n",
    "    problem = pulp.LpProblem(\"Elective_Assignment_Problem\", pulp.LpMaximize)\n",
    "\n",
    "    # Decision variables\n",
    "    a = pulp.LpVariable.dicts(\"SlotA\", range(M), cat='Binary')  # Slot A assignments\n",
    "    b = pulp.LpVariable.dicts(\"SlotB\", range(M), cat='Binary')  # Slot B assignments\n",
    "    S = pulp.LpVariable.dicts(\"Satisfaction\", range(N), cat='Binary')  # Student satisfaction\n",
    "\n",
    "    # Objective function: Maximize the number of satisfied students\n",
    "    problem += pulp.lpSum(S[i] for i in range(N)), \"Maximize_Satisfaction\"\n",
    "\n",
    "    # Constraint: Equal number of electives in Slot A and Slot B\n",
    "    problem += pulp.lpSum(a[j] for j in range(M)) == k, \"Equal_SlotA\"\n",
    "    problem += pulp.lpSum(b[j] for j in range(M)) == k, \"Equal_SlotB\"\n",
    "\n",
    "    # Constraint: An elective can only be assigned to one of the two slots\n",
    "    for j in range(M):\n",
    "        problem += a[j] + b[j] <= 1, f\"One_Slot_{j}\"\n",
    "\n",
    "    # Satisfaction constraints for students\n",
    "    for i in range(N):\n",
    "        elective1, elective2 = students[i]\n",
    "        problem += S[i] <= a[elective1] + (1 - b[elective2]), f\"Satisfaction_Condition_1_{i}\"\n",
    "        problem += S[i] <= (1 - a[elective1]) + b[elective2], f\"Satisfaction_Condition_2_{i}\"\n",
    "\n",
    "    # Solve the problem\n",
    "    problem.solve()\n",
    "\n",
    "    # Print results\n",
    "    print(f\"Status: {pulp.LpStatus[problem.status]}\")\n",
    "    satisfied_students = [i for i in range(N) if S[i].varValue == 1]\n",
    "    print(f\"Number of satisfied students: {len(satisfied_students)}\")\n",
    "    print(f\"Total students = {N}\")\n",
    "    print(\"Satisfied students indices:\", satisfied_students)\n",
    "    \n",
    "    slot_a_electives = [electives[j] for j in range(M) if a[j].varValue == 1]\n",
    "    slot_b_electives = [electives[j] for j in range(M) if b[j].varValue == 1]\n",
    "    \n",
    "    print(\"Electives in Slot A:\", slot_a_electives)\n",
    "    print(\"Electives in Slot B:\", slot_b_electives)\n",
    "\n",
    "# Example data\n",
    "students = generate_pairs(100)\n",
    "electives = [0, 1, 2, 3, 4, 5,6,7]  # List of electives\n",
    "k = 4  # Number of electives per slot\n",
    "\n",
    "# Run the function\n",
    "assign_electives(students, electives, k)\n"
   ]
  },
  {
   "cell_type": "markdown",
   "id": "90f0caf7",
   "metadata": {},
   "source": [
    "## Using Barrier penalty and hit and trial (FLEXIBLE)"
   ]
  },
  {
   "cell_type": "code",
   "execution_count": 6,
   "id": "7ec32816",
   "metadata": {},
   "outputs": [
    {
     "name": "stdout",
     "output_type": "stream",
     "text": [
      "Cutoff at 5.9604644775390625e-05\n",
      "Best Satisfaction: 298.99991737041705\n",
      "Slot A Electives: (0, 2, 7) (Total: 3)\n",
      "Slot B Electives: [1, 3, 5, 6] (Total: 4)\n",
      "Number of satisfied students: 299 out of 500\n"
     ]
    }
   ],
   "source": [
    "import math\n",
    "from itertools import combinations\n",
    "\n",
    "# Function to calculate satisfaction and barrier penalty with the new constraint\n",
    "def calculate_satisfaction_and_barrier(students, electives, slot_a, slot_b, t):\n",
    "    total_barrier = 0\n",
    "    satisfied_students = 0\n",
    "\n",
    "    # Constraint: We want the number of subjects in Slot A and Slot B to be as close as possible\n",
    "    # The penalty increases with the absolute difference between the sizes of Slot A and Slot B\n",
    "    total_barrier += -t * math.log(abs(len(slot_a) - len(slot_b)) + 1)\n",
    "\n",
    "    # Penalty for constraint: No elective can be in both Slot A and Slot B\n",
    "    overlap = set(slot_a) & set(slot_b)\n",
    "    if len(overlap) > 0:\n",
    "        total_barrier += -t * math.log(len(overlap) + 1)\n",
    "\n",
    "    # Calculate student satisfaction\n",
    "    for student in students:\n",
    "        elective1, elective2 = student\n",
    "        if (elective1 in slot_a and elective2 in slot_b) or (elective1 in slot_b and elective2 in slot_a):\n",
    "            satisfied_students += 1\n",
    "\n",
    "    return satisfied_students, total_barrier\n",
    "\n",
    "# Barrier method optimization for elective assignment with flexible slot sizes\n",
    "def assign_electives_barrier_no_library(students, electives, k, initial_t=1000, mu=0.5, epsilon=1e-4):\n",
    "    N = len(electives)  # Total number of electives\n",
    "\n",
    "    # Possible ranges for the number of electives in Slot A and Slot B\n",
    "    min_slot_size = N // 2  # Minimum number of electives in any slot\n",
    "    max_slot_size = N - min_slot_size  # Maximum number of electives in any slot\n",
    "\n",
    "    best_satisfaction = -float('inf')  # Track the best satisfaction score\n",
    "    best_assignment = None  # Track the best assignment (Slot A, Slot B)\n",
    "    t = initial_t  # Initialize barrier parameter\n",
    "\n",
    "    while t > epsilon:\n",
    "\n",
    "        # Try different slot sizes for Slot A (and Slot B will automatically be N - Slot A size)\n",
    "        for slot_size_a in range(min_slot_size, max_slot_size + 1):\n",
    "            # All possible combinations of `slot_size_a` electives for Slot A\n",
    "            slot_a_combinations = list(combinations(electives, slot_size_a))\n",
    "\n",
    "            # Try every possible combination for Slot A of size `slot_size_a`\n",
    "            for slot_a in slot_a_combinations:\n",
    "                slot_a_set = set(slot_a)\n",
    "                # Slot B should contain all remaining electives\n",
    "                slot_b = [e for e in electives if e not in slot_a_set]\n",
    "\n",
    "                # Calculate satisfaction and barrier penalty for this assignment\n",
    "                satisfaction, barrier = calculate_satisfaction_and_barrier(students, electives, slot_a, slot_b, t)\n",
    "                total_score = satisfaction + barrier\n",
    "\n",
    "                # Update best score and assignment if we found a better one\n",
    "                if total_score > best_satisfaction:\n",
    "                    best_satisfaction = total_score\n",
    "                    best_assignment = (slot_a, slot_b)\n",
    "\n",
    "        # Reduce the barrier parameter t\n",
    "        t *= mu\n",
    "        if(t<epsilon):\n",
    "            print(f\"Cutoff at {t}\")\n",
    "\n",
    "    # Print the results\n",
    "    print(f\"Best Satisfaction: {best_satisfaction}\")\n",
    "    print(f\"Slot A Electives: {best_assignment[0]} (Total: {len(best_assignment[0])})\")\n",
    "    print(f\"Slot B Electives: {best_assignment[1]} (Total: {len(best_assignment[1])})\")\n",
    "\n",
    "    # Calculate the number of satisfied students\n",
    "    satisfied_students = 0\n",
    "    for student in students:\n",
    "        elective1, elective2 = student\n",
    "        if (elective1 in best_assignment[0] and elective2 in best_assignment[1]) or (elective1 in best_assignment[1] and elective2 in best_assignment[0]):\n",
    "            satisfied_students += 1\n",
    "\n",
    "    print(f\"Number of satisfied students: {satisfied_students} out of {len(students)}\")\n",
    "\n",
    "# Example data\n",
    "students = generate_pairs(500)  # Each tuple represents (elective1, elective2)\n",
    "electives = [0,1,2,3,5,6,7]  # List of electives\n",
    "k = 2  # Number of electives per slot (flexible)\n",
    "\n",
    "# Run the function\n",
    "assign_electives_barrier_no_library(students, electives, k)\n"
   ]
  },
  {
   "cell_type": "code",
   "execution_count": null,
   "id": "04137480",
   "metadata": {},
   "outputs": [],
   "source": []
  }
 ],
 "metadata": {
  "kernelspec": {
   "display_name": "Python 3 (ipykernel)",
   "language": "python",
   "name": "python3"
  },
  "language_info": {
   "codemirror_mode": {
    "name": "ipython",
    "version": 3
   },
   "file_extension": ".py",
   "mimetype": "text/x-python",
   "name": "python",
   "nbconvert_exporter": "python",
   "pygments_lexer": "ipython3",
   "version": "3.11.3"
  }
 },
 "nbformat": 4,
 "nbformat_minor": 5
}
